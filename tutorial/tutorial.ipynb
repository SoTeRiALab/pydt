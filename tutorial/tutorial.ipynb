{
 "cells": [
  {
   "cell_type": "markdown",
   "metadata": {},
   "source": [
    "# **DT-BASE Tutorial**"
   ]
  },
  {
   "cell_type": "markdown",
   "metadata": {},
   "source": [
    "This is a tutorial on how to use the `dtbase` package to develop and quantify the **`DT-BASE`** causal model in Python. For more information on the DT-BASE causal model, please see [this](sciencedirect.com/science/article/abs/pii/S095183201830053X#:~:text=The%20role%20of%20the%20Data,links%20in%20the%20SoTeRiA%20framework.) paper.\n",
    "\n",
    "The tutorial expects an understanding of the **`DT-BASE`** model, basic Python syntax, and a working installation of the `dtbase` package."
   ]
  },
  {
   "cell_type": "markdown",
   "metadata": {},
   "source": [
    "### **Objective** : \n",
    "Quantify the model on a subset of [this](https://databank.illinois.edu/datasets/IDB-6772942) dataset for an example Training Causal Model. The desired output is a conditional probability table for a given node, as well as the causal model structure which can then be integrated with the DT-SITE module using a Bayesian Belief Network (BBN)."
   ]
  },
  {
   "cell_type": "markdown",
   "metadata": {},
   "source": [
    "First, import the `Model` object from the `dtbase` package."
   ]
  },
  {
   "cell_type": "code",
   "execution_count": 1,
   "metadata": {},
   "outputs": [],
   "source": [
    "from dtbase.graph import Model"
   ]
  },
  {
   "cell_type": "markdown",
   "metadata": {},
   "source": [
    "Create a `Model` instance, which stores the causal model structure. Optionally, provide the `file_path` argument which saves the database file to a given file path. If not file path is provided, an in-memory database is used."
   ]
  },
  {
   "cell_type": "code",
   "execution_count": 2,
   "metadata": {},
   "outputs": [],
   "source": [
    "model = Model('model.db')"
   ]
  },
  {
   "cell_type": "markdown",
   "metadata": {},
   "source": [
    "The `Model` model is essentially made up of four major components:\n",
    "- `Node` : represents a node in the model.\n",
    "- `Estimate` : represents an estimate of `m1`, `m2`, or `m3` with associated uncertainty using a range.\n",
    "- `Reference` : stores a theoretical reference which supports the claim of a causal link between two nodes.\n",
    "- `Link` : represents a causal link between two nodes in the model."
   ]
  },
  {
   "cell_type": "markdown",
   "metadata": {},
   "source": [
    "### **`Node`** : \n",
    "A `Node` has the following important attributes:\n",
    "- `node_id` (`str`) : a unique id representing the `Node` in the model.\n",
    "- `name` (`str`) : the name of the `Node`.\n",
    "- `keywords` (`str`) : an optional sequence of space separated keywords describing the Node.\n",
    "\n",
    "A `Node` can be constructed using the `Node()` constructor, and added to the model with the `add_node()` function."
   ]
  },
  {
   "cell_type": "code",
   "execution_count": 3,
   "metadata": {},
   "outputs": [],
   "source": [
    "from dtbase.model.node import Node\n",
    "\n",
    "# add the 'Conditions & Standards for Task Performance' node to the model.\n",
    "model.add_node(Node(node_id='cstp',\n",
    "                       name='Conditions & Standards for Task Performance'))\n",
    "\n",
    "# add the 'Job/Task Analysis' node to the model.\n",
    "model.add_node(Node(node_id='jta',\n",
    "                       name='Job/Task Analysis'))\n",
    "\n",
    "# add the 'Organization Learning Objectives' node to the model.\n",
    "model.add_node(Node(node_id='olo',\n",
    "                       name='Organizational Learning Objectives'))"
   ]
  },
  {
   "cell_type": "markdown",
   "metadata": {},
   "source": [
    "It is possible to view the `set` of all `node_id`s of Nodes in the model using the `Model.nodes()` function."
   ]
  },
  {
   "cell_type": "code",
   "execution_count": 4,
   "metadata": {},
   "outputs": [
    {
     "data": {
      "text/plain": [
       "{'cstp', 'jta', 'olo'}"
      ]
     },
     "execution_count": 4,
     "metadata": {},
     "output_type": "execute_result"
    }
   ],
   "source": [
    "model.nodes()"
   ]
  },
  {
   "cell_type": "markdown",
   "metadata": {},
   "source": [
    "### **`Estimate`** : \n",
    "Given the nature of the analyst estimates for `m1`, `m2` and `m3`, there is naturally some uncertainty in those estimates. The `Estimate` object allows the analyst to capture this uncertainty, using an upper and lower bound. \n",
    "An `Estimate` has the following important attributes:\n",
    "- **`estimate_type`** (`EstimateTypes`) : An EstimateTypes enum value representing the type of uncertainty estimate that is provided. At the moment, two kinds of uncertainty estimates are supported (in later releases, more options will be provided):\n",
    "    - **`EstimateTypes.UNIFORM`** : a and b are the min and max parameters of a uniform distribution.\n",
    "    - **`EstimateTypes.NORMAL`** : a and b are the upper and lower bounds of a 95% confidence interval.\n",
    "- **`a`** (`float`) : the lower bound parameter for the estimate.\n",
    "- **`b`** (`float`) : the upper bound parameter for the estimate.\n",
    "An `Estimate` can be constructed using the `Estimate()` constructor."
   ]
  },
  {
   "cell_type": "code",
   "execution_count": 5,
   "metadata": {},
   "outputs": [],
   "source": [
    "from dtbase.model.estimate import Estimate, EstimateTypes\n",
    "\n",
    "# create an Estimate representing a 95% confidence interval of (.9, 1)\n",
    "example_m1 = Estimate(estimate_type=EstimateTypes.NORMAL,\n",
    "                      a=.9,\n",
    "                      b=1.0)"
   ]
  },
  {
   "cell_type": "markdown",
   "metadata": {},
   "source": [
    "### **`Reference`** : \n",
    "A `Reference` stores the metadata of a reference used to support a claim of a causal link.\n",
    "- **`ref_id`** (`str`) : the unique id of the `Reference` object.\n",
    "- **`title`** (`str`) : the title of the `Reference`.\n",
    "- **`authors`** (`str`) : the authors of the `Reference` as a space-separated `str`.\n",
    "- **`year`** (`str`) : the year in which the `Reference` was published.\n",
    "- **`publication_type`** (`str`) : the type of the publication. Must be a valid .ris `TY` tag.\n",
    "- **`publisher`** (`str`) : the publisher of the `Reference`."
   ]
  },
  {
   "cell_type": "markdown",
   "metadata": {},
   "source": [
    "A `Reference` can be constructed using the `Reference()` constructor."
   ]
  },
  {
   "cell_type": "code",
   "execution_count": 6,
   "metadata": {},
   "outputs": [],
   "source": [
    "from dtbase.model.reference import Reference\n",
    "\n",
    "# create a Reference object for the original DT-Base paper\n",
    "hpm1 = Reference(ref_id='hpm1',\n",
    "                 title='Human Performance Management: Personnel Training REGDOC-2.2.2',\n",
    "                 authors='Canadian Nuclear Safety Commission',\n",
    "                 year='2013',\n",
    "                 publication_type='GOVDOC',\n",
    "                 publisher='Canadian Nuclear Safety Commission')"
   ]
  },
  {
   "cell_type": "markdown",
   "metadata": {},
   "source": [
    "Alternatively, a `list` of `Reference` objects can be parsed from a valid `.ris` file given a valid sequence of corresponding ids, one id for each entry in the `.ris` file."
   ]
  },
  {
   "cell_type": "code",
   "execution_count": 7,
   "metadata": {},
   "outputs": [
    {
     "data": {
      "text/plain": [
       "['Data-theoretic methodology and computational platform to quantify organizational factors in socio-technical risk analysis',\n",
       " 'A causal model of the declaration intention of banks for suspected money-laundering transactions based on organizational commitment perspective.']"
      ]
     },
     "execution_count": 7,
     "metadata": {},
     "output_type": "execute_result"
    }
   ],
   "source": [
    "from dtbase.model.risparser import risparser\n",
    "\n",
    "# parse a list of Reference objects from a .ris file.\n",
    "parsed_ris = risparser('tutorial/data/citations.ris', ['ref1', 'ref2']).parse()\n",
    "[ref.title for ref in parsed_ris]"
   ]
  },
  {
   "cell_type": "markdown",
   "metadata": {},
   "source": [
    "### **`Link`** : \n",
    "A `Link` defines a causal relationship between two `Node`s supported by evidence. A `Link` has the following important attributes:\n",
    "- **`link_id`** (`str`) : a unique id representing the `Link` in the model.\n",
    "- **`parent_id`** (`str`) : the `node_id` of the child `Parent` in the `Link`.\n",
    "- **`child_id`** (`str`) : the `node_id` of the child `Node` in the `Link`.\n",
    "- **`m1`** (`Estimate`) : an `Estimate` for the m1 parameter.\n",
    "- **`m2`** (`Estimate`) : an `Estimate` for the m2 parameter.\n",
    "- **`m3`** (`Estimate`) : an `Estimate` for the m1 parameter.\n",
    "- **`m1_memo`** (`str`) : an optional justification of the `m1` estimate.\n",
    "- **`m2_memo`** (`str`) : an optional justification of the `m2` estimate.\n",
    "- **`m3_memo`** (`str`) : an optional justification of the `m3` estimate.\n",
    "- **`ref_id`** (`str`) : the id of the `Reference` object which stores the reference supporting the claim of a causal link.\n",
    "\n",
    "A `Link` can be constructed using the `Link()` constructor, and added to the model with the `add_link()` function."
   ]
  },
  {
   "cell_type": "code",
   "execution_count": 8,
   "metadata": {},
   "outputs": [],
   "source": [
    "from dtbase.model.link import Link\n",
    "\n",
    "# add a causal link from node 'cstp' to node 'olo'\n",
    "model.add_link(Link(link_id='cstpolo1',\n",
    "                    parent_id='cstp',\n",
    "                    child_id='olo',\n",
    "                    m1=Estimate(EstimateTypes.UNIFORM, .90, .99),\n",
    "                    m2=Estimate(EstimateTypes.NORMAL, .10, .95),\n",
    "                    m3=Estimate(EstimateTypes.UNIFORM, .50, .99),\n",
    "                    m1_memo='Regulatory document very likely credible',\n",
    "                    m2_memo='The definition is conditional on OJT, therefore the weight of influence for the generic definition is medium likelihood',\n",
    "                    m3_memo='I am likely confident with this concept',\n",
    "                    ref_id='hpm1')) # use the Reference we created earlier"
   ]
  },
  {
   "cell_type": "markdown",
   "metadata": {},
   "source": [
    "### **Importing Nodes and Links** : \n",
    "For some users, it may be easier to use a spreadsheet for the data entry. For this purpose, it is possible to import a list of `Node`s and/or `References` and/or `Link`s as a `.csv` file.\n",
    "This `.csv` file can be obtained by calling `export_model` on a `ModelModel` or can be created from scratch. In this example, we populate the full Training Causal model by import `.csv` spreadsheets of data."
   ]
  },
  {
   "cell_type": "code",
   "execution_count": 9,
   "metadata": {},
   "outputs": [],
   "source": [
    "# Start with an empty model.\n",
    "training_model = Model('tutorial/data/training.db')"
   ]
  },
  {
   "cell_type": "markdown",
   "metadata": {},
   "source": [
    "**Nodes:**\n",
    "To import a .csv file of `Node`s, each `Node` must be represented on one line with the following format:\n",
    "\n",
    "`<node_id>, <name>, <keywords>`."
   ]
  },
  {
   "cell_type": "code",
   "execution_count": 10,
   "metadata": {},
   "outputs": [],
   "source": [
    "import pandas as pd"
   ]
  },
  {
   "cell_type": "code",
   "execution_count": 11,
   "metadata": {},
   "outputs": [
    {
     "data": {
      "text/html": [
       "<div>\n",
       "<style scoped>\n",
       "    .dataframe tbody tr th:only-of-type {\n",
       "        vertical-align: middle;\n",
       "    }\n",
       "\n",
       "    .dataframe tbody tr th {\n",
       "        vertical-align: top;\n",
       "    }\n",
       "\n",
       "    .dataframe thead th {\n",
       "        text-align: right;\n",
       "    }\n",
       "</style>\n",
       "<table border=\"1\" class=\"dataframe\">\n",
       "  <thead>\n",
       "    <tr style=\"text-align: right;\">\n",
       "      <th></th>\n",
       "      <th>0</th>\n",
       "      <th>1</th>\n",
       "      <th>2</th>\n",
       "    </tr>\n",
       "  </thead>\n",
       "  <tbody>\n",
       "    <tr>\n",
       "      <th>0</th>\n",
       "      <td>cstp</td>\n",
       "      <td>Conditions &amp; Standards for Task Performance</td>\n",
       "      <td>Conditions &amp; Standards for Task Performance</td>\n",
       "    </tr>\n",
       "    <tr>\n",
       "      <th>1</th>\n",
       "      <td>con</td>\n",
       "      <td>Content</td>\n",
       "      <td>Content</td>\n",
       "    </tr>\n",
       "    <tr>\n",
       "      <th>2</th>\n",
       "      <td>ipt</td>\n",
       "      <td>Inst. Preparation/Time</td>\n",
       "      <td>Inst. Preparation/Time</td>\n",
       "    </tr>\n",
       "    <tr>\n",
       "      <th>3</th>\n",
       "      <td>it</td>\n",
       "      <td>Inst. Training</td>\n",
       "      <td>Inst. Training</td>\n",
       "    </tr>\n",
       "    <tr>\n",
       "      <th>4</th>\n",
       "      <td>ik</td>\n",
       "      <td>Inst.Knowledge</td>\n",
       "      <td>Inst.Knowledge</td>\n",
       "    </tr>\n",
       "  </tbody>\n",
       "</table>\n",
       "</div>"
      ],
      "text/plain": [
       "      0                                            1  \\\n",
       "0  cstp  Conditions & Standards for Task Performance   \n",
       "1   con                                      Content   \n",
       "2   ipt                       Inst. Preparation/Time   \n",
       "3    it                               Inst. Training   \n",
       "4    ik                               Inst.Knowledge   \n",
       "\n",
       "                                             2  \n",
       "0  Conditions & Standards for Task Performance  \n",
       "1                                      Content  \n",
       "2                       Inst. Preparation/Time  \n",
       "3                               Inst. Training  \n",
       "4                               Inst.Knowledge  "
      ]
     },
     "execution_count": 11,
     "metadata": {},
     "output_type": "execute_result"
    }
   ],
   "source": [
    "# Example of part of a correctly formatted nodes.csv file\n",
    "pd.read_csv('tutorial/data/nodes.csv', header=None).head()"
   ]
  },
  {
   "cell_type": "code",
   "execution_count": 12,
   "metadata": {},
   "outputs": [],
   "source": [
    "# import a list of nodes from nodes.csv into the model.\n",
    "training_model.import_nodes('tutorial/data/nodes.csv')"
   ]
  },
  {
   "cell_type": "markdown",
   "metadata": {},
   "source": [
    "**References**: To import a .csv file of `Reference`s, each `Reference` must be represented on one line with the following format:\n",
    "\n",
    "`<ref_id>, <title>, <authors>, <year>, <publication_type>, <publication_year>`."
   ]
  },
  {
   "cell_type": "code",
   "execution_count": 13,
   "metadata": {},
   "outputs": [
    {
     "data": {
      "text/html": [
       "<div>\n",
       "<style scoped>\n",
       "    .dataframe tbody tr th:only-of-type {\n",
       "        vertical-align: middle;\n",
       "    }\n",
       "\n",
       "    .dataframe tbody tr th {\n",
       "        vertical-align: top;\n",
       "    }\n",
       "\n",
       "    .dataframe thead th {\n",
       "        text-align: right;\n",
       "    }\n",
       "</style>\n",
       "<table border=\"1\" class=\"dataframe\">\n",
       "  <thead>\n",
       "    <tr style=\"text-align: right;\">\n",
       "      <th></th>\n",
       "      <th>0</th>\n",
       "      <th>1</th>\n",
       "      <th>2</th>\n",
       "      <th>3</th>\n",
       "      <th>4</th>\n",
       "      <th>5</th>\n",
       "    </tr>\n",
       "  </thead>\n",
       "  <tbody>\n",
       "    <tr>\n",
       "      <th>0</th>\n",
       "      <td>b1</td>\n",
       "      <td>Instructor excellence: Mastering the delivery ...</td>\n",
       "      <td>Powers, Bob, Rothwell, William</td>\n",
       "      <td>2007</td>\n",
       "      <td>Book</td>\n",
       "      <td>Wiley</td>\n",
       "    </tr>\n",
       "    <tr>\n",
       "      <th>1</th>\n",
       "      <td>b2</td>\n",
       "      <td>Simulation fidelity in training system design:...</td>\n",
       "      <td>Hays, Robert T, Singer, Michael J</td>\n",
       "      <td>2012</td>\n",
       "      <td>Book</td>\n",
       "      <td>Springer</td>\n",
       "    </tr>\n",
       "    <tr>\n",
       "      <th>2</th>\n",
       "      <td>b3</td>\n",
       "      <td>Training complex cognitive skills: A four-comp...</td>\n",
       "      <td>Van Merrianboer, Jeroen JG</td>\n",
       "      <td>1997</td>\n",
       "      <td>Book</td>\n",
       "      <td>Technology and Engineering</td>\n",
       "    </tr>\n",
       "    <tr>\n",
       "      <th>3</th>\n",
       "      <td>b4</td>\n",
       "      <td>Training in organizations: Needs assessment, d...</td>\n",
       "      <td>Goldstein, Irwin L,Ford, J Kevin</td>\n",
       "      <td>2002</td>\n",
       "      <td>Book</td>\n",
       "      <td>Wadsworth Thompson Learning</td>\n",
       "    </tr>\n",
       "    <tr>\n",
       "      <th>4</th>\n",
       "      <td>gd1</td>\n",
       "      <td>Development of instructors for nuclear power p...</td>\n",
       "      <td>IAEA</td>\n",
       "      <td>2004</td>\n",
       "      <td>Government Document</td>\n",
       "      <td>International Atomic Energy Agency</td>\n",
       "    </tr>\n",
       "  </tbody>\n",
       "</table>\n",
       "</div>"
      ],
      "text/plain": [
       "     0                                                  1  \\\n",
       "0   b1  Instructor excellence: Mastering the delivery ...   \n",
       "1   b2  Simulation fidelity in training system design:...   \n",
       "2   b3  Training complex cognitive skills: A four-comp...   \n",
       "3   b4  Training in organizations: Needs assessment, d...   \n",
       "4  gd1  Development of instructors for nuclear power p...   \n",
       "\n",
       "                                   2     3                    4  \\\n",
       "0     Powers, Bob, Rothwell, William  2007                 Book   \n",
       "1  Hays, Robert T, Singer, Michael J  2012                 Book   \n",
       "2         Van Merrianboer, Jeroen JG  1997                 Book   \n",
       "3   Goldstein, Irwin L,Ford, J Kevin  2002                 Book   \n",
       "4                               IAEA  2004  Government Document   \n",
       "\n",
       "                                    5  \n",
       "0                               Wiley  \n",
       "1                            Springer  \n",
       "2          Technology and Engineering  \n",
       "3         Wadsworth Thompson Learning  \n",
       "4  International Atomic Energy Agency  "
      ]
     },
     "execution_count": 13,
     "metadata": {},
     "output_type": "execute_result"
    }
   ],
   "source": [
    "# Example of part of a correctly formatted refs.csv file\n",
    "pd.read_csv('tutorial/data/refs.csv', header=None).head()"
   ]
  },
  {
   "cell_type": "code",
   "execution_count": 14,
   "metadata": {},
   "outputs": [],
   "source": [
    "# import a list of references from refs.csv into the model.\n",
    "training_model.import_refs('tutorial/data/refs.csv')"
   ]
  },
  {
   "cell_type": "markdown",
   "metadata": {},
   "source": [
    "**Links**: To import a .csv file of `Link`s, each `Link` must be represented on one line with the following format:\n",
    "\n",
    "`<link_id>, <parent_id>, <child_id>, <m1_estimate_type>, <m1_lower>, <m1_upper>, <m2_estimate_type>, <m2_lower>, <m2_upper>, <m3_estimate_type>, <m3_lower>, <m3_upper>, <m1_memo>, <m2_memo>, <m3_memo>, <ref_id>`."
   ]
  },
  {
   "cell_type": "code",
   "execution_count": 15,
   "metadata": {},
   "outputs": [
    {
     "data": {
      "text/html": [
       "<div>\n",
       "<style scoped>\n",
       "    .dataframe tbody tr th:only-of-type {\n",
       "        vertical-align: middle;\n",
       "    }\n",
       "\n",
       "    .dataframe tbody tr th {\n",
       "        vertical-align: top;\n",
       "    }\n",
       "\n",
       "    .dataframe thead th {\n",
       "        text-align: right;\n",
       "    }\n",
       "</style>\n",
       "<table border=\"1\" class=\"dataframe\">\n",
       "  <thead>\n",
       "    <tr style=\"text-align: right;\">\n",
       "      <th></th>\n",
       "      <th>0</th>\n",
       "      <th>1</th>\n",
       "      <th>2</th>\n",
       "      <th>3</th>\n",
       "      <th>4</th>\n",
       "      <th>5</th>\n",
       "      <th>6</th>\n",
       "      <th>7</th>\n",
       "      <th>8</th>\n",
       "      <th>9</th>\n",
       "      <th>10</th>\n",
       "      <th>11</th>\n",
       "      <th>12</th>\n",
       "      <th>13</th>\n",
       "      <th>14</th>\n",
       "      <th>15</th>\n",
       "    </tr>\n",
       "  </thead>\n",
       "  <tbody>\n",
       "    <tr>\n",
       "      <th>0</th>\n",
       "      <td>l79</td>\n",
       "      <td>tp</td>\n",
       "      <td>ti</td>\n",
       "      <td>UNIFORM</td>\n",
       "      <td>0.900</td>\n",
       "      <td>0.990</td>\n",
       "      <td>UNIFORM</td>\n",
       "      <td>0.6</td>\n",
       "      <td>0.96</td>\n",
       "      <td>UNIFORM</td>\n",
       "      <td>0.6</td>\n",
       "      <td>0.96</td>\n",
       "      <td>journal publication very likely this reference...</td>\n",
       "      <td>this evidence provides support for a virtually...</td>\n",
       "      <td>I am likely confident with this concept</td>\n",
       "      <td>j24</td>\n",
       "    </tr>\n",
       "    <tr>\n",
       "      <th>1</th>\n",
       "      <td>l80</td>\n",
       "      <td>tp</td>\n",
       "      <td>ti</td>\n",
       "      <td>UNIFORM</td>\n",
       "      <td>0.900</td>\n",
       "      <td>0.990</td>\n",
       "      <td>UNIFORM</td>\n",
       "      <td>0.6</td>\n",
       "      <td>0.96</td>\n",
       "      <td>UNIFORM</td>\n",
       "      <td>0.6</td>\n",
       "      <td>0.96</td>\n",
       "      <td>governmental report is very likely credible</td>\n",
       "      <td>this evidence provides support for a likely re...</td>\n",
       "      <td>I am likely confident with this concept</td>\n",
       "      <td>gr12</td>\n",
       "    </tr>\n",
       "    <tr>\n",
       "      <th>2</th>\n",
       "      <td>l78</td>\n",
       "      <td>tp</td>\n",
       "      <td>ti</td>\n",
       "      <td>UNIFORM</td>\n",
       "      <td>0.900</td>\n",
       "      <td>0.990</td>\n",
       "      <td>UNIFORM</td>\n",
       "      <td>0.6</td>\n",
       "      <td>0.96</td>\n",
       "      <td>UNIFORM</td>\n",
       "      <td>0.6</td>\n",
       "      <td>0.96</td>\n",
       "      <td>Regulatory document very likely credible</td>\n",
       "      <td>this evidence provides support for a likely re...</td>\n",
       "      <td>I am likely confident with this concept</td>\n",
       "      <td>gr12</td>\n",
       "    </tr>\n",
       "    <tr>\n",
       "      <th>3</th>\n",
       "      <td>l76</td>\n",
       "      <td>tna</td>\n",
       "      <td>pd</td>\n",
       "      <td>UNIFORM</td>\n",
       "      <td>0.991</td>\n",
       "      <td>0.999</td>\n",
       "      <td>UNIFORM</td>\n",
       "      <td>0.6</td>\n",
       "      <td>0.96</td>\n",
       "      <td>UNIFORM</td>\n",
       "      <td>0.6</td>\n",
       "      <td>0.96</td>\n",
       "      <td>Very high journal impact factor virtually cert...</td>\n",
       "      <td>most important step indicates virtually certai...</td>\n",
       "      <td>I am likely confident with this concept</td>\n",
       "      <td>gr9</td>\n",
       "    </tr>\n",
       "    <tr>\n",
       "      <th>4</th>\n",
       "      <td>l75</td>\n",
       "      <td>tna</td>\n",
       "      <td>pd</td>\n",
       "      <td>UNIFORM</td>\n",
       "      <td>0.900</td>\n",
       "      <td>0.990</td>\n",
       "      <td>UNIFORM</td>\n",
       "      <td>0.6</td>\n",
       "      <td>0.96</td>\n",
       "      <td>UNIFORM</td>\n",
       "      <td>0.6</td>\n",
       "      <td>0.96</td>\n",
       "      <td>journal publication very likely this reference...</td>\n",
       "      <td>the concept is definitional and supported by m...</td>\n",
       "      <td>I am likely confident with this concept</td>\n",
       "      <td>gr9</td>\n",
       "    </tr>\n",
       "  </tbody>\n",
       "</table>\n",
       "</div>"
      ],
      "text/plain": [
       "    0    1   2        3      4      5        6    7     8        9    10  \\\n",
       "0  l79   tp  ti  UNIFORM  0.900  0.990  UNIFORM  0.6  0.96  UNIFORM  0.6   \n",
       "1  l80   tp  ti  UNIFORM  0.900  0.990  UNIFORM  0.6  0.96  UNIFORM  0.6   \n",
       "2  l78   tp  ti  UNIFORM  0.900  0.990  UNIFORM  0.6  0.96  UNIFORM  0.6   \n",
       "3  l76  tna  pd  UNIFORM  0.991  0.999  UNIFORM  0.6  0.96  UNIFORM  0.6   \n",
       "4  l75  tna  pd  UNIFORM  0.900  0.990  UNIFORM  0.6  0.96  UNIFORM  0.6   \n",
       "\n",
       "     11                                                 12  \\\n",
       "0  0.96  journal publication very likely this reference...   \n",
       "1  0.96        governmental report is very likely credible   \n",
       "2  0.96           Regulatory document very likely credible   \n",
       "3  0.96  Very high journal impact factor virtually cert...   \n",
       "4  0.96  journal publication very likely this reference...   \n",
       "\n",
       "                                                  13  \\\n",
       "0  this evidence provides support for a virtually...   \n",
       "1  this evidence provides support for a likely re...   \n",
       "2  this evidence provides support for a likely re...   \n",
       "3  most important step indicates virtually certai...   \n",
       "4  the concept is definitional and supported by m...   \n",
       "\n",
       "                                        14    15  \n",
       "0  I am likely confident with this concept   j24  \n",
       "1  I am likely confident with this concept  gr12  \n",
       "2  I am likely confident with this concept  gr12  \n",
       "3  I am likely confident with this concept   gr9  \n",
       "4  I am likely confident with this concept   gr9  "
      ]
     },
     "execution_count": 15,
     "metadata": {},
     "output_type": "execute_result"
    }
   ],
   "source": [
    "# Example of part of a correctly formatted links.csv file\n",
    "pd.read_csv('tutorial/data/links.csv', header=None).head()"
   ]
  },
  {
   "cell_type": "code",
   "execution_count": 16,
   "metadata": {},
   "outputs": [],
   "source": [
    "# import a list of links from links.csv into the model. Make sure to import References and Nodes first!!!\n",
    "training_model.import_links('tutorial/data/links.csv')"
   ]
  },
  {
   "cell_type": "markdown",
   "metadata": {},
   "source": [
    "### **Quantification**\n",
    "\n",
    "The DT-BASE module is designed to output the conditional probability table for a particular `Node`, as well as a visual representation of the model."
   ]
  },
  {
   "cell_type": "markdown",
   "metadata": {},
   "source": [
    "To view a visual representation of the model, use the `draw` function of the `Model` class."
   ]
  },
  {
   "cell_type": "code",
   "execution_count": 17,
   "metadata": {},
   "outputs": [
    {
     "data": {
      "image/png": "[encoded data removed]",
      "text/plain": [
       "<Figure size 432x288 with 1 Axes>"
      ]
     },
     "metadata": {},
     "output_type": "display_data"
    }
   ],
   "source": [
    "training_model.draw()"
   ]
  },
  {
   "cell_type": "markdown",
   "metadata": {},
   "source": [
    "To calculate the conditional probability table, run the `calculate()` function, supplying a `Model` model object, a `target_node` str with the `node_id` of the target node, and a `db.AggregationMethod` enum value."
   ]
  },
  {
   "cell_type": "code",
   "execution_count": 18,
   "metadata": {},
   "outputs": [],
   "source": [
    "from dtbase.quantify import calculate, AggregationMethod"
   ]
  },
  {
   "cell_type": "code",
   "execution_count": 19,
   "metadata": {},
   "outputs": [
    {
     "data": {
      "text/plain": [
       "defaultdict(<function dtbase.quantify.calculate.<locals>.<lambda>()>,\n",
       "            {('cstp',): (0.7863964430297754, 0.11625269144703179),\n",
       "             ('jta',): (0.7829237191154508, 0.09004650639556978),\n",
       "             ('cstp', 'jta'): (0.9536187739265587, 0.03340466675156347)})"
      ]
     },
     "execution_count": 19,
     "metadata": {},
     "output_type": "execute_result"
    }
   ],
   "source": [
    "# calculate the conditional probability table for the 'olo' node.\n",
    "# The values in the dict are a mean and standard deviation.\n",
    "calculate(training_model, 'olo', AggregationMethod.ARITHMETIC)"
   ]
  },
  {
   "cell_type": "markdown",
   "metadata": {},
   "source": [
    "### **Exporting Data**\n",
    "\n",
    "A `Model` model is saved to the file given when creating the model. Loading this file will reload the entire model. It is also possible to export the module to a `.zip` file. This can be accomplished with the `export_model()` function."
   ]
  },
  {
   "cell_type": "code",
   "execution_count": 20,
   "metadata": {},
   "outputs": [
    {
     "data": {
      "image/png": "[encoded data removed]",
      "text/plain": [
       "<Figure size 432x288 with 1 Axes>"
      ]
     },
     "metadata": {},
     "output_type": "display_data"
    }
   ],
   "source": [
    "# export the model data.\n",
    "training_model.export_model('training_causal_model')"
   ]
  }
 ],
 "metadata": {
  "kernelspec": {
   "display_name": "Python 3",
   "language": "python",
   "name": "python3"
  },
  "language_info": {
   "codemirror_mode": {
    "name": "ipython",
    "version": 3
   },
   "file_extension": ".py",
   "mimetype": "text/x-python",
   "name": "python",
   "nbconvert_exporter": "python",
   "pygments_lexer": "ipython3",
   "version": "3.9.1"
  }
 },
 "nbformat": 4,
 "nbformat_minor": 4
}
