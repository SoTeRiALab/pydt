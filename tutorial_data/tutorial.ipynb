{
 "cells": [
  {
   "cell_type": "markdown",
   "metadata": {},
   "source": [
    "# DT-BASE Tutorial"
   ]
  },
  {
   "cell_type": "markdown",
   "metadata": {},
   "source": [
    "This is a tutorial on how to use the `dtbase` package to develop and quantify the **`DT-BASE`** causal model in Python. For more information on the DT-BASE causal model, please see [this](sciencedirect.com/science/article/abs/pii/S095183201830053X#:~:text=The%20role%20of%20the%20Data,links%20in%20the%20SoTeRiA%20framework.) paper.\n",
    "\n",
    "The tutorial expects an understanding of the **`DT-BASE`** model, basic Python syntax, and a working installation of the `dtbase` package."
   ]
  },
  {
   "cell_type": "markdown",
   "metadata": {},
   "source": [
    "#### **Objective** : \n",
    "Quantify the model on a subset of [this](https://databank.illinois.edu/datasets/IDB-6772942) dataset for an example Training Causal Model. The desired output is a conditional probability table for a given node, as well as the causal model structure which can then be integrated with the DT-SITE module using a Bayesian Belief Network (BBN)."
   ]
  },
  {
   "cell_type": "markdown",
   "metadata": {},
   "source": [
    "First, import the `dtbase` package."
   ]
  },
  {
   "cell_type": "code",
   "execution_count": 1,
   "metadata": {},
   "outputs": [],
   "source": [
    "import dtbase as db"
   ]
  },
  {
   "cell_type": "markdown",
   "metadata": {},
   "source": [
    "Create a `DTBase` instance, which stores the causal model structure. Optionally, provide the `file_path` argument which saves the database file to a given file path. If not file path is provided, an in-memory database is used."
   ]
  },
  {
   "cell_type": "code",
   "execution_count": 2,
   "metadata": {},
   "outputs": [],
   "source": [
    "model = db.DTBase(':memory')"
   ]
  },
  {
   "cell_type": "markdown",
   "metadata": {},
   "source": [
    "The `DTBase` model is essentially made up of four major components:\n",
    "- `db.Node` : represents a node in the model.\n",
    "- `db.Estimate` : represents an estimate of `m1`, `m2`, or `m3` with associated uncertainty using a range.\n",
    "- `db.Reference` : stores a theoretical reference which supports the claim of a causal link between two nodes.\n",
    "- `db.Link` : represents a causal link between two nodes in the model."
   ]
  },
  {
   "cell_type": "markdown",
   "metadata": {},
   "source": [
    "#### **`Node`** : \n",
    "A `Node` has the following important attributes:\n",
    "- `node_id` (str) : a unique id representing the `Node` in the model.\n",
    "- `name` (str) : the name of the `Node`.\n",
    "- `keywords` (str) : an optional sequence of space separated keywords describing the Node.\n",
    "\n",
    "A `Node` can be constructed using the `db.Node()` constructor, and added to the model with the `DTBaseModel.add_node()` function."
   ]
  },
  {
   "cell_type": "code",
   "execution_count": 3,
   "metadata": {},
   "outputs": [],
   "source": [
    "# add the 'Conditions & Standards for Task Performance' node to the model.\n",
    "model.add_node(db.Node(node_id='cstp',\n",
    "                       name='Conditions & Standards for Task Performance'))\n",
    "\n",
    "# add the 'Job/Task Analysis' node to the model.\n",
    "model.add_node(db.Node(node_id='jta',\n",
    "                       name='Job/Task Analysis'))\n",
    "\n",
    "# add the 'Organization Learning Objectives' node to the model.\n",
    "model.add_node(db.Node(node_id='olo',\n",
    "                       name='Organizational Learning Objectives'))"
   ]
  },
  {
   "cell_type": "markdown",
   "metadata": {},
   "source": [
    "It is possible to view the `set` of all `node_id`s of Nodes in the model using the `DTBase.nodes()` function."
   ]
  },
  {
   "cell_type": "code",
   "execution_count": 4,
   "metadata": {},
   "outputs": [
    {
     "data": {
      "text/plain": [
       "{'cstp', 'jta', 'olo'}"
      ]
     },
     "execution_count": 4,
     "metadata": {},
     "output_type": "execute_result"
    }
   ],
   "source": [
    "model.nodes()"
   ]
  },
  {
   "cell_type": "markdown",
   "metadata": {},
   "source": [
    "#### **`Estimate`** : \n",
    "Given the nature of the analyst estimates for `m1`, `m2` and `m3`, there is naturally some uncertainty in those estimates. The `Estimate` object allows the analyst to capture this uncertainty, using an upper and lower bound. \n",
    "An `Estimate` has the following important attributes:\n",
    "- `estimate_type` (db.EstimateTypes) : An EstimateTypes enum value representing the type of uncertainty estimate that is provided. At the moment, two kinds of uncertainty estimates are supported (in later releases, more options will be provided):\n",
    "    - `EstimateTypes.UNIFORM` : a and b are the min and max parameters of a uniform distribution.\n",
    "    - `EstimateTypes.NORMAL` : a and b are the upper and lower bounds of a 95% confidence interval.\n",
    "- `a` (float) : the lower bound parameter for the estimate.\n",
    "- `b` (float) : the upper bound parameter for the estimate.\n",
    "An `Estimate` can be constructed using the `db.Estimate()` constructor."
   ]
  },
  {
   "cell_type": "code",
   "execution_count": 5,
   "metadata": {},
   "outputs": [],
   "source": [
    "# create an Estimate representing a 95% confidence interval of (.9, 1)\n",
    "example_m1 = db.Estimate(estimate_type=db.EstimateTypes.NORMAL,\n",
    "                         a=.9, \n",
    "                         b=1.0)"
   ]
  },
  {
   "cell_type": "markdown",
   "metadata": {},
   "source": [
    "#### **`Reference`** : \n",
    "A `Reference` stores the metadata of a reference used to support a claim of a causal link.\n",
    "- `ref_id` (str) : the unique id of the `Reference` object.\n",
    "- `title` (str) : the title of the `Reference`.\n",
    "- `authors` (str) : the authors of the `Reference` as a space-separated `str`.\n",
    "- `year` (str) : the year in which the `Reference` was published.\n",
    "- `publication_type` (str) : the type of the publication. Must be a valid .ris `TY` tag.\n",
    "- `publisher` : the publisher of the `Reference`.\n",
    "\n",
    "\n",
    "A `Reference` can be constructed using the `db.Reference()` constructor, or using a `risparser`."
   ]
  },
  {
   "cell_type": "code",
   "execution_count": 6,
   "metadata": {},
   "outputs": [],
   "source": [
    "# create a Reference object for the original DT-Base paper\n",
    "hpm1 = db.Reference(ref_id='hpm1',\n",
    "                    title='Human Performance Management: Personnel Training REGDOC-2.2.2',\n",
    "                    authors='Canadian Nuclear Safety Commission',\n",
    "                    year='2013',\n",
    "                    publication_type='GOVDOC',\n",
    "                    publisher='Canadian Nuclear Safety Commission')"
   ]
  },
  {
   "cell_type": "code",
   "execution_count": 7,
   "metadata": {},
   "outputs": [
    {
     "ename": "FileNotFoundError",
     "evalue": "[Errno 2] No such file or directory: 'citations.ris'",
     "output_type": "error",
     "traceback": [
      "\u001b[0;31m---------------------------------------------------------------------------\u001b[0m",
      "\u001b[0;31mFileNotFoundError\u001b[0m                         Traceback (most recent call last)",
      "\u001b[0;32m<ipython-input-7-3714e15af04e>\u001b[0m in \u001b[0;36m<module>\u001b[0;34m\u001b[0m\n\u001b[1;32m      1\u001b[0m \u001b[0;31m# Alternatively, use a risparser to parse a .ris file, along with a corresponding sequence of ref_ids, into a list of Reference objects one for each entry in the file.\u001b[0m\u001b[0;34m\u001b[0m\u001b[0;34m\u001b[0m\u001b[0;34m\u001b[0m\u001b[0m\n\u001b[0;32m----> 2\u001b[0;31m \u001b[0mrefs\u001b[0m \u001b[0;34m=\u001b[0m \u001b[0mdb\u001b[0m\u001b[0;34m.\u001b[0m\u001b[0mrisparser\u001b[0m\u001b[0;34m(\u001b[0m\u001b[0;34m'citations.ris'\u001b[0m\u001b[0;34m,\u001b[0m \u001b[0;34m[\u001b[0m\u001b[0;34m'pence1'\u001b[0m\u001b[0;34m,\u001b[0m \u001b[0;34m'chan1'\u001b[0m\u001b[0;34m]\u001b[0m\u001b[0;34m)\u001b[0m\u001b[0;34m.\u001b[0m\u001b[0mparse\u001b[0m\u001b[0;34m(\u001b[0m\u001b[0;34m)\u001b[0m\u001b[0;34m\u001b[0m\u001b[0;34m\u001b[0m\u001b[0m\n\u001b[0m\u001b[1;32m      3\u001b[0m \u001b[0mrefs\u001b[0m\u001b[0;34m\u001b[0m\u001b[0;34m\u001b[0m\u001b[0m\n",
      "\u001b[0;32m~/research/pydtbase/dtbase/model/risparser.py\u001b[0m in \u001b[0;36m__init__\u001b[0;34m(self, file_path, ids)\u001b[0m\n\u001b[1;32m     18\u001b[0m         \u001b[0mself\u001b[0m\u001b[0;34m.\u001b[0m\u001b[0mfile_path\u001b[0m \u001b[0;34m=\u001b[0m \u001b[0mfile_path\u001b[0m\u001b[0;34m\u001b[0m\u001b[0;34m\u001b[0m\u001b[0m\n\u001b[1;32m     19\u001b[0m         \u001b[0mself\u001b[0m\u001b[0;34m.\u001b[0m\u001b[0mids\u001b[0m \u001b[0;34m=\u001b[0m \u001b[0mids\u001b[0m\u001b[0;34m\u001b[0m\u001b[0;34m\u001b[0m\u001b[0m\n\u001b[0;32m---> 20\u001b[0;31m         \u001b[0mself\u001b[0m\u001b[0;34m.\u001b[0m\u001b[0mrefs\u001b[0m \u001b[0;34m=\u001b[0m \u001b[0mself\u001b[0m\u001b[0;34m.\u001b[0m\u001b[0mparse\u001b[0m\u001b[0;34m(\u001b[0m\u001b[0;34m)\u001b[0m\u001b[0;34m\u001b[0m\u001b[0;34m\u001b[0m\u001b[0m\n\u001b[0m\u001b[1;32m     21\u001b[0m \u001b[0;34m\u001b[0m\u001b[0m\n\u001b[1;32m     22\u001b[0m     \u001b[0;32mdef\u001b[0m \u001b[0mparse\u001b[0m\u001b[0;34m(\u001b[0m\u001b[0mself\u001b[0m\u001b[0;34m)\u001b[0m \u001b[0;34m->\u001b[0m \u001b[0mlist\u001b[0m\u001b[0;34m:\u001b[0m\u001b[0;34m\u001b[0m\u001b[0;34m\u001b[0m\u001b[0m\n",
      "\u001b[0;32m~/research/pydtbase/dtbase/model/risparser.py\u001b[0m in \u001b[0;36mparse\u001b[0;34m(self)\u001b[0m\n\u001b[1;32m     25\u001b[0m         '''\n\u001b[1;32m     26\u001b[0m         \u001b[0mout\u001b[0m \u001b[0;34m=\u001b[0m \u001b[0;34m[\u001b[0m\u001b[0;34m]\u001b[0m\u001b[0;34m\u001b[0m\u001b[0;34m\u001b[0m\u001b[0m\n\u001b[0;32m---> 27\u001b[0;31m         \u001b[0;32mwith\u001b[0m \u001b[0mopen\u001b[0m \u001b[0;34m(\u001b[0m\u001b[0mself\u001b[0m\u001b[0;34m.\u001b[0m\u001b[0mfile_path\u001b[0m\u001b[0;34m,\u001b[0m \u001b[0;34m'r'\u001b[0m\u001b[0;34m)\u001b[0m \u001b[0;32mas\u001b[0m \u001b[0mris\u001b[0m\u001b[0;34m:\u001b[0m\u001b[0;34m\u001b[0m\u001b[0;34m\u001b[0m\u001b[0m\n\u001b[0m\u001b[1;32m     28\u001b[0m             \u001b[0mentries\u001b[0m \u001b[0;34m=\u001b[0m \u001b[0mreadris\u001b[0m\u001b[0;34m(\u001b[0m\u001b[0mris\u001b[0m\u001b[0;34m)\u001b[0m\u001b[0;34m\u001b[0m\u001b[0;34m\u001b[0m\u001b[0m\n\u001b[1;32m     29\u001b[0m             \u001b[0mi\u001b[0m \u001b[0;34m=\u001b[0m \u001b[0;36m0\u001b[0m\u001b[0;34m\u001b[0m\u001b[0;34m\u001b[0m\u001b[0m\n",
      "\u001b[0;31mFileNotFoundError\u001b[0m: [Errno 2] No such file or directory: 'citations.ris'"
     ]
    }
   ],
   "source": [
    "# Alternatively, use a risparser to parse a .ris file, along with a corresponding sequence of ref_ids, into a list of Reference objects one for each entry in the file.\n",
    "refs = db.risparser('citations.ris', ['pence1', 'chan1']).parse()\n",
    "refs"
   ]
  },
  {
   "cell_type": "markdown",
   "metadata": {},
   "source": [
    "#### **`Link`** : \n",
    "A `Link` defines a causal relationship between two `Node`s supported by evidence. A `Link` has the following important attributes:\n",
    "- `link_id` (str) : a unique id representing the `Link` in the model.\n",
    "- `parent_id` (str) : the `node_id` of the child `Parent` in the `Link`.\n",
    "- `child_id` (str) : the `node_id` of the child `Node` in the `Link`.\n",
    "- `m1` (db.Estimate) : an `Estimate` for the m1 parameter.\n",
    "- `m2` (db.Estimate) : an `Estimate` for the m2 parameter.\n",
    "- `m3` (db.Estimate) : an `Estimate` for the m1 parameter.\n",
    "- `m1_memo` (str) : an optional justification of the `m1` estimate.\n",
    "- `m2_memo` (str) : an optional justification of the `m2` estimate.\n",
    "- `m3_memo` (str) : an optional justification of the `m3` estimate.\n",
    "- `ref_id` (str) : the id of the `Reference` object which stores the reference supporting the claim of a causal link.\n",
    "\n",
    "A `Link` can be constructed using the `db.Link()` constructor, and added to the model with the `DTBaseModel.add_link()` function."
   ]
  },
  {
   "cell_type": "code",
   "execution_count": null,
   "metadata": {},
   "outputs": [],
   "source": [
    "# add a causal link from node 'cstp' to node 'olo'\n",
    "model.add_link(db.Link(link_id='cstpolo1',\n",
    "                    parent_id='cstp',\n",
    "                    child_id='olo',\n",
    "                    m1=db.Estimate(db.EstimateTypes.UNIFORM, .90, .99),\n",
    "                    m2=db.Estimate(db.EstimateTypes.NORMAL, .10, .95),\n",
    "                    m3=db.Estimate(db.EstimateTypes.UNIFORM, .50, .99),\n",
    "                    m1_memo='Regulatory document very likely credible',\n",
    "                    m2_memo='The definition is conditional on OJT, therefore the weight of influence for the generic definition is medium likelihood',\n",
    "                    m3_memo='I am likely confident with this concept',\n",
    "                    ref_id='hpm1')) # use the Reference we created earlier"
   ]
  },
  {
   "cell_type": "markdown",
   "metadata": {},
   "source": [
    "#### **Importing Nodes and Links** : \n",
    "For some users, it may be easier to use a spreadsheet for the data entry. For this purpose, it is possible to import a list of `Node`s and/or `References` and/or `Link`s as a `.csv` file.\n",
    "This `.csv` file can be obtained by calling `export_model` on a `DTBaseModel` or can be created from scratch. In this example, we populate the full Training Causal model by import `.csv` spreadsheets of data."
   ]
  },
  {
   "cell_type": "code",
   "execution_count": null,
   "metadata": {},
   "outputs": [],
   "source": [
    "# Start with an empty model.\n",
    "training_model = db.DTBase('training.db')"
   ]
  },
  {
   "cell_type": "markdown",
   "metadata": {},
   "source": [
    "**Nodes:**\n",
    "To import a .csv file of `Node`s, each `Node` must be represented on one line with the following format:\n",
    "\n",
    "`<node_id>, <name>, <keywords>`."
   ]
  },
  {
   "cell_type": "code",
   "execution_count": null,
   "metadata": {},
   "outputs": [],
   "source": [
    "import pandas as pd"
   ]
  },
  {
   "cell_type": "code",
   "execution_count": null,
   "metadata": {},
   "outputs": [],
   "source": [
    "# Example of a correctly formatted nodes.csv file\n",
    "pd.read_csv('nodes.csv').head()"
   ]
  },
  {
   "cell_type": "code",
   "execution_count": null,
   "metadata": {},
   "outputs": [],
   "source": [
    "# import a list of nodes from nodes.csv into the model.\n",
    "training_model.import_nodes('nodes.csv')\n",
    "training_model.nodes()"
   ]
  },
  {
   "cell_type": "markdown",
   "metadata": {},
   "source": [
    "**References**: To import a .csv file of `Reference`s, each `Reference` must be represented on one line with the following format:\n",
    "\n",
    "`<ref_id>, <title>, <authors>, <year>, <publication_type>, <publication_year>`."
   ]
  },
  {
   "cell_type": "code",
   "execution_count": null,
   "metadata": {},
   "outputs": [],
   "source": [
    "# Example of a correctly formatted refs.csv file\n",
    "pd.read_csv('refs.csv').head()"
   ]
  },
  {
   "cell_type": "code",
   "execution_count": null,
   "metadata": {},
   "outputs": [],
   "source": [
    "# import a list of references from refs.csv into the model.\n",
    "training_model.import_refs('refs.csv')\n",
    "training_model.references()"
   ]
  },
  {
   "cell_type": "markdown",
   "metadata": {},
   "source": [
    "**Links**: To import a .csv file of `Link`s, each `Link` must be represented on one line with the following format:\n",
    "\n",
    "`<link_id>, <parent_id>, <child_id>, <m1_estimate_type>, <m1_lower>, <m1_upper>, <m2_estimate_type>, <m2_lower>, <m2_upper>, <m3_estimate_type>, <m3_lower>, <m3_upper>, <m1_memo>, <m2_memo>, <m3_memo>, <ref_id>`."
   ]
  },
  {
   "cell_type": "code",
   "execution_count": null,
   "metadata": {},
   "outputs": [],
   "source": [
    "# Example of a correctly formatted links.csv file\n",
    "pd.read_csv('links.csv').head()"
   ]
  },
  {
   "cell_type": "code",
   "execution_count": null,
   "metadata": {},
   "outputs": [],
   "source": [
    "# import a list of links from links.csv into the model. Make sure to import References and Nodes first!!!\n",
    "training_model.import_links('links.csv')\n",
    "training_model.links()"
   ]
  }
 ],
 "metadata": {
  "kernelspec": {
   "display_name": "Python 3",
   "language": "python",
   "name": "python3"
  },
  "language_info": {
   "codemirror_mode": {
    "name": "ipython",
    "version": 3
   },
   "file_extension": ".py",
   "mimetype": "text/x-python",
   "name": "python",
   "nbconvert_exporter": "python",
   "pygments_lexer": "ipython3",
   "version": "3.9.1"
  }
 },
 "nbformat": 4,
 "nbformat_minor": 4
}
